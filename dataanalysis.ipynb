{
 "cells": [
  {
   "cell_type": "code",
   "execution_count": 1,
   "id": "5abe1215",
   "metadata": {},
   "outputs": [],
   "source": [
    "import pandas as pd\n",
    "import numpy as np\n",
    "import scipy as sp\n",
    "from scipy import stats\n",
    "from scipy.stats import fisher_exact\n",
    "import matplotlib.pyplot as plt\n",
    "import math\n",
    "import seaborn"
   ]
  },
  {
   "cell_type": "code",
   "execution_count": 3,
   "id": "fd054c76",
   "metadata": {},
   "outputs": [],
   "source": [
    "c=sp.special.comb(31000,63)"
   ]
  },
  {
   "cell_type": "code",
   "execution_count": 7,
   "id": "f0322627",
   "metadata": {},
   "outputs": [
    {
     "data": {
      "text/plain": [
       "0.05024468664277072"
      ]
     },
     "execution_count": 7,
     "metadata": {},
     "output_type": "execute_result"
    }
   ],
   "source": [
    "c*(0.00203**63)*((1-0.00203)**(31000-63))"
   ]
  },
  {
   "cell_type": "code",
   "execution_count": 9,
   "id": "c20c8c46",
   "metadata": {},
   "outputs": [
    {
     "data": {
      "text/plain": [
       "0.002032258064516129"
      ]
     },
     "execution_count": 9,
     "metadata": {},
     "output_type": "execute_result"
    }
   ],
   "source": [
    "63/31000"
   ]
  },
  {
   "cell_type": "code",
   "execution_count": 37,
   "id": "2e6ece08",
   "metadata": {},
   "outputs": [],
   "source": [
    "c2 = sp.special.comb(31000,63)"
   ]
  },
  {
   "cell_type": "code",
   "execution_count": 38,
   "id": "24268de6",
   "metadata": {},
   "outputs": [
    {
     "data": {
      "text/plain": [
       "0.06378567544093659"
      ]
     },
     "execution_count": 38,
     "metadata": {},
     "output_type": "execute_result"
    }
   ],
   "source": [
    "c2*((39/31000)**39)*((1-(39/31000))**(31000-39))"
   ]
  },
  {
   "cell_type": "code",
   "execution_count": 117,
   "id": "954f1282",
   "metadata": {},
   "outputs": [
    {
     "data": {
      "text/plain": [
       "0.0003165012580502242"
      ]
     },
     "execution_count": 117,
     "metadata": {},
     "output_type": "execute_result"
    }
   ],
   "source": [
    "stats.binom.pmf(39,31000,(63/31000))"
   ]
  },
  {
   "cell_type": "code",
   "execution_count": 104,
   "id": "25a9bdd4",
   "metadata": {},
   "outputs": [
    {
     "data": {
      "text/plain": [
       "(62.0, 63.0)"
      ]
     },
     "execution_count": 104,
     "metadata": {},
     "output_type": "execute_result"
    }
   ],
   "source": [
    "sp.stats.binom.interval(.05,31000, (63/31000), loc=0)"
   ]
  },
  {
   "cell_type": "code",
   "execution_count": 16,
   "id": "55e2da20",
   "metadata": {},
   "outputs": [
    {
     "data": {
      "text/plain": [
       "0.00900857085886364"
      ]
     },
     "execution_count": 16,
     "metadata": {},
     "output_type": "execute_result"
    }
   ],
   "source": [
    "stats.binom.cdf(39,31000,(39/31000))-stats.binom.cdf(63,31000,(63/31000))"
   ]
  },
  {
   "cell_type": "code",
   "execution_count": 18,
   "id": "012126bd",
   "metadata": {},
   "outputs": [
    {
     "data": {
      "text/plain": [
       "0.0"
      ]
     },
     "execution_count": 18,
     "metadata": {},
     "output_type": "execute_result"
    }
   ],
   "source": [
    "stats.poisson.cdf(31000,39)-stats.poisson.cdf(31000,63)"
   ]
  },
  {
   "cell_type": "code",
   "execution_count": 90,
   "id": "acc048e7",
   "metadata": {},
   "outputs": [
    {
     "data": {
      "image/png": "[encoded data removed]",
      "text/plain": [
       "<Figure size 640x480 with 1 Axes>"
      ]
     },
     "metadata": {},
     "output_type": "display_data"
    }
   ],
   "source": [
    "import matplotlib.pyplot as plt\n",
    "\n",
    "fig, ax = plt.subplots(1, 1)\n",
    "n, p = 31000, (63/31000)\n",
    "\n",
    "mean, var, skew, kurt = binom.stats(31000, (63/31000), moments='mvsk')\n",
    "x = np.arange(binom.ppf(0.01, n, p),\n",
    "\n",
    "              binom.ppf(0.99, n, p))\n",
    "\n",
    "ax.plot(x, binom.pmf(x, n, p), 'bo', ms=8, label='binom pmf')\n",
    "\n",
    "ax.vlines(x, 0, binom.pmf(x, n, p), colors='b', lw=5, alpha=0.5)\n",
    "rv = binom(n, p)\n",
    "\n",
    "ax.vlines(x, 0, rv.pmf(x), colors='k', linestyles='-', lw=1,\n",
    "\n",
    "        label='frozen pmf')\n",
    "\n",
    "ax.legend(loc='best', frameon=False)\n",
    "\n",
    "plt.show()"
   ]
  },
  {
   "cell_type": "code",
   "execution_count": 7,
   "id": "6cf4afbe",
   "metadata": {},
   "outputs": [
    {
     "data": {
      "text/plain": [
       "0.0008074555188959496"
      ]
     },
     "execution_count": 7,
     "metadata": {},
     "output_type": "execute_result"
    }
   ],
   "source": [
    "stats.binom_test(39, n=31000, p=(0.00203), alternative='less')"
   ]
  },
  {
   "cell_type": "code",
   "execution_count": 133,
   "id": "aaaaa561",
   "metadata": {},
   "outputs": [
    {
     "data": {
      "text/plain": [
       "0.0015700232304146143"
      ]
     },
     "execution_count": 133,
     "metadata": {},
     "output_type": "execute_result"
    }
   ],
   "source": [
    "stats.binom_test((63-24), n=31000, p=(63/31000), alternative='two-sided')"
   ]
  },
  {
   "cell_type": "code",
   "execution_count": 3,
   "id": "b7abedb4",
   "metadata": {},
   "outputs": [
    {
     "data": {
      "text/plain": [
       "0.0008074555188959496"
      ]
     },
     "execution_count": 3,
     "metadata": {},
     "output_type": "execute_result"
    }
   ],
   "source": [
    "stats.binom.cdf(39,31000,0.00203)"
   ]
  },
  {
   "cell_type": "markdown",
   "id": "fb0847bb",
   "metadata": {},
   "source": [
    "### lecture 2.4"
   ]
  },
  {
   "cell_type": "code",
   "execution_count": 41,
   "id": "3bb39de3",
   "metadata": {},
   "outputs": [],
   "source": [
    "table = np.array([[39,30961],[63,30937]])"
   ]
  },
  {
   "cell_type": "code",
   "execution_count": 42,
   "id": "0dc0256c",
   "metadata": {},
   "outputs": [],
   "source": [
    "res =stats.fisher_exact([[39,30961],[63,30937]], alternative='less')"
   ]
  },
  {
   "cell_type": "code",
   "execution_count": 44,
   "id": "343fd7d1",
   "metadata": {},
   "outputs": [
    {
     "data": {
      "text/plain": [
       "(0.6185677526719483, 0.011094091841433758)"
      ]
     },
     "execution_count": 44,
     "metadata": {},
     "output_type": "execute_result"
    }
   ],
   "source": [
    "res"
   ]
  },
  {
   "cell_type": "code",
   "execution_count": 46,
   "id": "271a2c2e",
   "metadata": {},
   "outputs": [
    {
     "data": {
      "text/plain": [
       "0.0012357871459340907"
      ]
     },
     "execution_count": 46,
     "metadata": {},
     "output_type": "execute_result"
    }
   ],
   "source": [
    "stats.norm.cdf(-3.0268)"
   ]
  },
  {
   "cell_type": "code",
   "execution_count": 47,
   "id": "3850235a",
   "metadata": {},
   "outputs": [],
   "source": [
    "table = np.array([.9,-.9,4.3,2.9,1.2,3,2.7,.6,3.6,-.5])"
   ]
  },
  {
   "cell_type": "code",
   "execution_count": 48,
   "id": "a0c7b1af",
   "metadata": {},
   "outputs": [
    {
     "data": {
      "text/plain": [
       "array([ 0.9, -0.9,  4.3,  2.9,  1.2,  3. ,  2.7,  0.6,  3.6, -0.5])"
      ]
     },
     "execution_count": 48,
     "metadata": {},
     "output_type": "execute_result"
    }
   ],
   "source": [
    "table"
   ]
  },
  {
   "cell_type": "code",
   "execution_count": 49,
   "id": "b40714ac",
   "metadata": {},
   "outputs": [
    {
     "name": "stdout",
     "output_type": "stream",
     "text": [
      "[ 0.9 -0.9  4.3  2.9  1.2  3.   2.7  0.6  3.6 -0.5]\n"
     ]
    }
   ],
   "source": [
    "print(table)"
   ]
  },
  {
   "cell_type": "code",
   "execution_count": 52,
   "id": "e3551229",
   "metadata": {},
   "outputs": [],
   "source": [
    "mean = np.mean(table)"
   ]
  },
  {
   "cell_type": "code",
   "execution_count": 53,
   "id": "d7ce4726",
   "metadata": {},
   "outputs": [
    {
     "data": {
      "text/plain": [
       "1.78"
      ]
     },
     "execution_count": 53,
     "metadata": {},
     "output_type": "execute_result"
    }
   ],
   "source": [
    "mean"
   ]
  },
  {
   "cell_type": "code",
   "execution_count": 55,
   "id": "896ed38e",
   "metadata": {},
   "outputs": [],
   "source": [
    "unbvar = np.var(table, ddof=1)"
   ]
  },
  {
   "cell_type": "code",
   "execution_count": 56,
   "id": "7a926caf",
   "metadata": {},
   "outputs": [
    {
     "data": {
      "text/plain": [
       "3.1262222222222227"
      ]
     },
     "execution_count": 56,
     "metadata": {},
     "output_type": "execute_result"
    }
   ],
   "source": [
    "unbvar"
   ]
  },
  {
   "cell_type": "code",
   "execution_count": 73,
   "id": "7e3e737a",
   "metadata": {},
   "outputs": [],
   "source": [
    "p = stats.ttest_1samp(table, 0,alternative='greater')"
   ]
  },
  {
   "cell_type": "code",
   "execution_count": 74,
   "id": "d1b8a6ac",
   "metadata": {},
   "outputs": [
    {
     "data": {
      "text/plain": [
       "Ttest_1sampResult(statistic=3.1835383022188735, pvalue=0.005560692749284678)"
      ]
     },
     "execution_count": 74,
     "metadata": {},
     "output_type": "execute_result"
    }
   ],
   "source": [
    "p"
   ]
  },
  {
   "cell_type": "code",
   "execution_count": 61,
   "id": "f4edc785",
   "metadata": {},
   "outputs": [
    {
     "data": {
      "text/plain": [
       "1.8005291482761383"
      ]
     },
     "execution_count": 61,
     "metadata": {},
     "output_type": "execute_result"
    }
   ],
   "source": [
    "import math\n",
    "mean*math.sqrt(10)/(unbvar)"
   ]
  },
  {
   "cell_type": "code",
   "execution_count": null,
   "id": "de85b7ae",
   "metadata": {},
   "outputs": [],
   "source": [
    "import numpy as np\n",
    "from scipy.stats import norm\n",
    "from scipy.stats import chisquare\n",
    "\n",
    "# Generate random data\n",
    "data = table\n",
    "\n",
    "# Fit a normal distribution to the data\n",
    "param = norm.fit(data)\n",
    "\n",
    "# Calculate the likelihood of the data given the normal distribution parameters\n",
    "ll_null = norm.logpdf(data, loc=param[0], scale=param[1]).sum()\n",
    "\n",
    "# Fit an alternative distribution to the data\n",
    "param_alt = norm.fit(data, floc=0)\n",
    "\n",
    "# Calculate the likelihood of the data given the alternative distribution parameters\n",
    "ll_alt = norm.logpdf(data, loc=param_alt[0], scale=param_alt[1]).sum()\n",
    "\n",
    "# Calculate the likelihood ratio test statistic\n",
    "lr = 2 * (ll_alt - ll_null)\n",
    "\n",
    "# Calculate the p-value\n",
    "p = chisquare.sf(lr, 1)\n",
    "\n",
    "print(\"Likelihood Ratio Test Statistic:\", lr)\n",
    "print(\"P-value:\", p)"
   ]
  },
  {
   "cell_type": "code",
   "execution_count": 5,
   "id": "773ac5ec",
   "metadata": {},
   "outputs": [
    {
     "data": {
      "text/plain": [
       "5.709660479762178"
      ]
     },
     "execution_count": 5,
     "metadata": {},
     "output_type": "execute_result"
    }
   ],
   "source": [
    "-2*math.log(stats.binom.pmf(39,31000,102/62000) * stats.binom.pmf(63,31000,102/62000) / (stats.binom.pmf(39,31000,39/31000) * stats.binom.pmf(63,31000,63/31000)))"
   ]
  },
  {
   "cell_type": "code",
   "execution_count": 7,
   "id": "bba8e54e",
   "metadata": {},
   "outputs": [
    {
     "data": {
      "text/plain": [
       "0.016868539397458002"
      ]
     },
     "execution_count": 7,
     "metadata": {},
     "output_type": "execute_result"
    }
   ],
   "source": [
    "stats.chi2.sf(5.71, 1)"
   ]
  },
  {
   "cell_type": "code",
   "execution_count": 8,
   "id": "a951a30a",
   "metadata": {},
   "outputs": [
    {
     "data": {
      "text/plain": [
       "0.013674024512554268"
      ]
     },
     "execution_count": 8,
     "metadata": {},
     "output_type": "execute_result"
    }
   ],
   "source": [
    "stats.binom.pmf(39,31000,102/62000)"
   ]
  },
  {
   "cell_type": "markdown",
   "id": "531678e7",
   "metadata": {},
   "source": [
    "## Correlation and Least Squares Regression"
   ]
  },
  {
   "cell_type": "code",
   "execution_count": 2,
   "id": "25d24811",
   "metadata": {},
   "outputs": [
    {
     "data": {
      "text/plain": [
       "array([[ 3.39e-02,  4.23e-02,  2.13e-01,  2.57e-01,  2.73e-01,  2.73e-01,\n",
       "         4.50e-01,  5.03e-01,  5.03e-01,  6.37e-01,  8.05e-01,  9.04e-01,\n",
       "         9.04e-01,  9.10e-01,  9.10e-01,  1.02e+00,  1.11e+00,  1.11e+00,\n",
       "         1.41e+00,  1.72e+00,  2.03e+00,  2.02e+00,  2.02e+00,  2.02e+00],\n",
       "       [-1.93e+01,  3.04e+01,  3.87e+01,  5.52e+00, -3.31e+01, -7.73e+01,\n",
       "         3.98e+02,  4.06e+02,  4.36e+02,  3.20e+02,  3.73e+02,  9.39e+01,\n",
       "         2.10e+02,  4.23e+02,  5.94e+02,  8.29e+02,  7.18e+02,  5.61e+02,\n",
       "         6.08e+02,  1.04e+03,  1.10e+03,  8.40e+02,  8.01e+02,  5.19e+02]])"
      ]
     },
     "execution_count": 2,
     "metadata": {},
     "output_type": "execute_result"
    }
   ],
   "source": [
    "Xs = np.array([0.0339, 0.0423, 0.213, 0.257, 0.273, 0.273, 0.450, 0.503, 0.503, \\\n",
    "0.637, 0.805, 0.904, 0.904, 0.910, 0.910, 1.02, 1.11, 1.11, 1.41, \\\n",
    "1.72, 2.03, 2.02, 2.02, 2.02])\n",
    "\n",
    "Ys = np.array([-19.3, 30.4, 38.7, 5.52, -33.1, -77.3, 398.0, 406.0, 436.0, 320.0, 373.0, \\\n",
    "93.9, 210.0, 423.0, 594.0, 829.0, 718.0, 561.0, 608.0, 1.04E3, 1.10E3, \\\n",
    "840.0, 801.0, 519.0])\n",
    "\n",
    "N = 24\n",
    "\n",
    "XY = np.array([Xs,Ys])\n",
    "XY"
   ]
  },
  {
   "cell_type": "code",
   "execution_count": 3,
   "id": "a755f709",
   "metadata": {},
   "outputs": [
    {
     "name": "stdout",
     "output_type": "stream",
     "text": [
      "0.9199250000000001 425.6175\n"
     ]
    }
   ],
   "source": [
    "my = np.mean(Ys)\n",
    "mx = np.mean(Xs)\n",
    "print(mx, my)"
   ]
  },
  {
   "cell_type": "code",
   "execution_count": 4,
   "id": "da22102f",
   "metadata": {},
   "outputs": [
    {
     "data": {
      "text/plain": [
       "116547.86537708332"
      ]
     },
     "execution_count": 4,
     "metadata": {},
     "output_type": "execute_result"
    }
   ],
   "source": [
    "np.var(Ys)"
   ]
  },
  {
   "cell_type": "code",
   "execution_count": 5,
   "id": "3d4187b4",
   "metadata": {},
   "outputs": [
    {
     "data": {
      "text/plain": [
       "0.6533948258734996"
      ]
     },
     "execution_count": 5,
     "metadata": {},
     "output_type": "execute_result"
    }
   ],
   "source": [
    "stdx = np.std(Xs,ddof=1)\n",
    "stdx"
   ]
  },
  {
   "cell_type": "code",
   "execution_count": 6,
   "id": "8f6fd338",
   "metadata": {},
   "outputs": [
    {
     "data": {
      "text/plain": [
       "348.7336574977229"
      ]
     },
     "execution_count": 6,
     "metadata": {},
     "output_type": "execute_result"
    }
   ],
   "source": [
    "stdy = np.std(Ys,ddof=1)\n",
    "stdy"
   ]
  },
  {
   "cell_type": "code",
   "execution_count": 7,
   "id": "4c858c45",
   "metadata": {},
   "outputs": [
    {
     "data": {
      "text/plain": [
       "array([[4.09136265e-01, 1.83240104e+02],\n",
       "       [1.83240104e+02, 1.16547865e+05]])"
      ]
     },
     "execution_count": 7,
     "metadata": {},
     "output_type": "execute_result"
    }
   ],
   "source": [
    "np.cov(XY,bias=True)"
   ]
  },
  {
   "cell_type": "code",
   "execution_count": 8,
   "id": "392bba60",
   "metadata": {},
   "outputs": [],
   "source": [
    "arrayx = np.subtract(Xs,mx)"
   ]
  },
  {
   "cell_type": "code",
   "execution_count": 9,
   "id": "106c4d36",
   "metadata": {},
   "outputs": [],
   "source": [
    "arrayy = np.subtract(Ys,my)"
   ]
  },
  {
   "cell_type": "code",
   "execution_count": 10,
   "id": "74455106",
   "metadata": {},
   "outputs": [],
   "source": [
    "mult = arrayx*arrayy"
   ]
  },
  {
   "cell_type": "code",
   "execution_count": 11,
   "id": "027d9a62",
   "metadata": {},
   "outputs": [],
   "source": [
    "suma =np.sum(mult)"
   ]
  },
  {
   "cell_type": "code",
   "execution_count": 12,
   "id": "09b6d015",
   "metadata": {},
   "outputs": [],
   "source": [
    "const = (N-1)**(-1)"
   ]
  },
  {
   "cell_type": "code",
   "execution_count": 13,
   "id": "8a33f909",
   "metadata": {},
   "outputs": [
    {
     "name": "stdout",
     "output_type": "stream",
     "text": [
      "XY covariance is equal to 191.20706528260865\n"
     ]
    }
   ],
   "source": [
    "XYcov = const*suma\n",
    "print(\"XY covariance is equal to\", XYcov)"
   ]
  },
  {
   "cell_type": "markdown",
   "id": "b6ac4e05",
   "metadata": {},
   "source": [
    "#### Correlation Coefficient "
   ]
  },
  {
   "cell_type": "code",
   "execution_count": 14,
   "id": "4a98ccb9",
   "metadata": {},
   "outputs": [],
   "source": [
    "normx = arrayx/stdx\n",
    "normy =arrayy/stdy"
   ]
  },
  {
   "cell_type": "code",
   "execution_count": 15,
   "id": "b04ec58c",
   "metadata": {},
   "outputs": [],
   "source": [
    "multnorm = normx*normy"
   ]
  },
  {
   "cell_type": "code",
   "execution_count": 16,
   "id": "7e5134c6",
   "metadata": {},
   "outputs": [],
   "source": [
    "sumanorm = np.sum(multnorm)"
   ]
  },
  {
   "cell_type": "code",
   "execution_count": 17,
   "id": "f1d4d263",
   "metadata": {},
   "outputs": [],
   "source": [
    "rxy = const*sumanorm"
   ]
  },
  {
   "cell_type": "code",
   "execution_count": 18,
   "id": "a9f216b1",
   "metadata": {},
   "outputs": [
    {
     "data": {
      "text/plain": [
       "0.8391399162310663"
      ]
     },
     "execution_count": 18,
     "metadata": {},
     "output_type": "execute_result"
    }
   ],
   "source": [
    "rxy"
   ]
  },
  {
   "cell_type": "code",
   "execution_count": 19,
   "id": "d79b19fa",
   "metadata": {},
   "outputs": [],
   "source": [
    "beta1 = rxy*(stdy/stdx)"
   ]
  },
  {
   "cell_type": "code",
   "execution_count": 20,
   "id": "c5255cd1",
   "metadata": {},
   "outputs": [
    {
     "data": {
      "text/plain": [
       "447.8705991409983"
      ]
     },
     "execution_count": 20,
     "metadata": {},
     "output_type": "execute_result"
    }
   ],
   "source": [
    "beta1"
   ]
  },
  {
   "cell_type": "code",
   "execution_count": 21,
   "id": "31ea8836",
   "metadata": {},
   "outputs": [],
   "source": [
    "b0 = my-beta1*mx"
   ]
  },
  {
   "cell_type": "code",
   "execution_count": 22,
   "id": "bce9bbb2",
   "metadata": {},
   "outputs": [
    {
     "data": {
      "text/plain": [
       "13.6101390852171"
      ]
     },
     "execution_count": 22,
     "metadata": {},
     "output_type": "execute_result"
    }
   ],
   "source": [
    "b0"
   ]
  },
  {
   "cell_type": "markdown",
   "id": "dccd5737",
   "metadata": {},
   "source": [
    "## Correlation and Least Squares Relationship"
   ]
  },
  {
   "cell_type": "code",
   "execution_count": 28,
   "id": "c3af1e77",
   "metadata": {},
   "outputs": [],
   "source": [
    "Xs = np.array([ 0.387, 0.723, 1.00, 1.52, 5.20, 9.54, 19.2, 30.1, 39.5 ])\n",
    "\n",
    "Ys = np.array([ 0.241, 0.615, 1.00, 1.88, 11.9, 29.5, 84.0, 165.0, 248 ])\n",
    "\n",
    "N = 9"
   ]
  },
  {
   "cell_type": "code",
   "execution_count": 29,
   "id": "cb823224",
   "metadata": {},
   "outputs": [],
   "source": [
    "my = np.mean(Ys)\n",
    "mx = np.mean(Xs)"
   ]
  },
  {
   "cell_type": "code",
   "execution_count": 30,
   "id": "b953bcc2",
   "metadata": {},
   "outputs": [],
   "source": [
    "stdx = np.std(Xs,ddof=1)"
   ]
  },
  {
   "cell_type": "code",
   "execution_count": 31,
   "id": "7eee4198",
   "metadata": {},
   "outputs": [],
   "source": [
    "stdy = np.std(Ys,ddof=1)"
   ]
  },
  {
   "cell_type": "code",
   "execution_count": 32,
   "id": "6bacafbd",
   "metadata": {},
   "outputs": [
    {
     "data": {
      "text/plain": [
       "0.34394167021658206"
      ]
     },
     "execution_count": 32,
     "metadata": {},
     "output_type": "execute_result"
    }
   ],
   "source": [
    "arrayx = np.subtract(Xs,mx)\n",
    "arrayy = np.subtract(Ys,my)\n",
    "normx = arrayx/stdx\n",
    "normy =arrayy/stdy\n",
    "multnorm = normx*normy\n",
    "sumanorm = np.sum(multnorm)\n",
    "rxy = const*sumanorm\n",
    "rxy"
   ]
  },
  {
   "cell_type": "code",
   "execution_count": 37,
   "id": "e7e42af9",
   "metadata": {},
   "outputs": [
    {
     "data": {
      "text/plain": [
       "<AxesSubplot: >"
      ]
     },
     "execution_count": 37,
     "metadata": {},
     "output_type": "execute_result"
    },
    {
     "data": {
      "image/png": "[encoded data removed]",
      "text/plain": [
       "<Figure size 640x480 with 1 Axes>"
      ]
     },
     "metadata": {},
     "output_type": "display_data"
    }
   ],
   "source": [
    "seaborn.scatterplot(x=Xs,y=Ys)"
   ]
  },
  {
   "cell_type": "code",
   "execution_count": 38,
   "id": "73973e91",
   "metadata": {},
   "outputs": [
    {
     "data": {
      "text/plain": [
       "array([[1.       , 0.9888323],\n",
       "       [0.9888323, 1.       ]])"
      ]
     },
     "execution_count": 38,
     "metadata": {},
     "output_type": "execute_result"
    }
   ],
   "source": [
    "np.corrcoef(Xs,Ys)"
   ]
  },
  {
   "cell_type": "code",
   "execution_count": 44,
   "id": "38b980dd",
   "metadata": {},
   "outputs": [
    {
     "data": {
      "image/png": "[encoded data removed]",
      "text/plain": [
       "<Figure size 640x480 with 1 Axes>"
      ]
     },
     "metadata": {},
     "output_type": "display_data"
    }
   ],
   "source": [
    "import statsmodels.api as sm\n",
    "sm.qqplot(Xs, line='s')\n",
    "plt.title(\"X distribution\")\n",
    "plt.show()"
   ]
  },
  {
   "cell_type": "markdown",
   "id": "ce410161",
   "metadata": {},
   "source": [
    "### Now lets transform the data to fit into a linear regression, let's transform both X and Y using the log function"
   ]
  },
  {
   "cell_type": "code",
   "execution_count": 46,
   "id": "f8a9bc7e",
   "metadata": {},
   "outputs": [
    {
     "data": {
      "text/plain": [
       "<AxesSubplot: >"
      ]
     },
     "execution_count": 46,
     "metadata": {},
     "output_type": "execute_result"
    },
    {
     "data": {
      "image/png": "[encoded data removed]",
      "text/plain": [
       "<Figure size 640x480 with 1 Axes>"
      ]
     },
     "metadata": {},
     "output_type": "display_data"
    }
   ],
   "source": [
    "seaborn.regplot(x=np.log(Xs),y=np.log(Ys))"
   ]
  },
  {
   "cell_type": "markdown",
   "id": "ef7326af",
   "metadata": {},
   "source": [
    "### the residual plot must not have a pattern, if there is a pattern the correlation is not linear"
   ]
  },
  {
   "cell_type": "code",
   "execution_count": 47,
   "id": "15baa2fc",
   "metadata": {},
   "outputs": [
    {
     "data": {
      "text/plain": [
       "<AxesSubplot: >"
      ]
     },
     "execution_count": 47,
     "metadata": {},
     "output_type": "execute_result"
    },
    {
     "data": {
      "image/png": "[encoded data removed]",
      "text/plain": [
       "<Figure size 640x480 with 1 Axes>"
      ]
     },
     "metadata": {},
     "output_type": "display_data"
    }
   ],
   "source": [
    "seaborn.residplot(x=np.log(Xs),y=np.log(Ys))"
   ]
  },
  {
   "cell_type": "code",
   "execution_count": 2,
   "id": "d977f766",
   "metadata": {},
   "outputs": [
    {
     "name": "stdout",
     "output_type": "stream",
     "text": [
      "test\n"
     ]
    }
   ],
   "source": [
    "print('test')"
   ]
  }
 ],
 "metadata": {
  "kernelspec": {
   "display_name": "Python 3 (ipykernel)",
   "language": "python",
   "name": "python3"
  },
  "language_info": {
   "codemirror_mode": {
    "name": "ipython",
    "version": 3
   },
   "file_extension": ".py",
   "mimetype": "text/x-python",
   "name": "python",
   "nbconvert_exporter": "python",
   "pygments_lexer": "ipython3",
   "version": "3.10.9"
  }
 },
 "nbformat": 4,
 "nbformat_minor": 5
}
